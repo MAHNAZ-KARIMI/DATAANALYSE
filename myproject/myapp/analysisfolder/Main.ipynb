{
 "cells": [
  {
   "cell_type": "code",
   "execution_count": null,
   "metadata": {},
   "outputs": [],
   "source": [
    "import pandas as pd\n",
    "import M_URL_Felt as felt\n",
    "import M_Time as time\n",
    "import ConnectionToMysql as connection"
   ]
  },
  {
   "cell_type": "code",
   "execution_count": 6,
   "metadata": {},
   "outputs": [],
   "source": [
    "# rootconn = connection.dockerConnection()\n",
    "# Data= pd.DataFrame(connection.sqlQuery(\"SELECT * FROM Luk_Virksomhed\",rootconn)) #TODO\n",
    "Data= pd.read_csv('EasyData/EasyData.csv',sep=';',dtype='str')\n",
    "Data=Data.rename(columns={0: 'id',1: 'forloebVarighed',2: 'virkStartForloebsId' ,3: 'cvr', 4:'cvrIndberet',5:'RID', 6:'PID',7:'serverTimeStamp',8:'formURL',9:'feltType',10:'feltId',11:'feltNavn',12:'handling'})"
   ]
  },
  {
   "cell_type": "code",
   "execution_count": 7,
   "metadata": {},
   "outputs": [],
   "source": [
    "Data,listOfuniqUrl,HashlistOfUrl,listUniqeClearfield,HashListfeild,ListOfUniqUserIds = time.make_ready_new_columns(Data)"
   ]
  },
  {
   "cell_type": "code",
   "execution_count": 8,
   "metadata": {},
   "outputs": [],
   "source": [
    "uniqIdGruppeClearUrl = felt.findURLRejser(Data,\"id\",\"clearURL\", \"newClearURL\")"
   ]
  },
  {
   "cell_type": "code",
   "execution_count": 9,
   "metadata": {},
   "outputs": [],
   "source": [
    "uniqIdGruppeClearUrl = felt.enterNumbersInsteadOfName(uniqIdGruppeClearUrl,HashlistOfUrl,listOfuniqUrl)"
   ]
  },
  {
   "cell_type": "code",
   "execution_count": 10,
   "metadata": {},
   "outputs": [],
   "source": [
    "UrlRejserAndCount = felt.makecounter(uniqIdGruppeClearUrl,\"newClearURL\")"
   ]
  },
  {
   "cell_type": "code",
   "execution_count": 11,
   "metadata": {},
   "outputs": [
    {
     "name": "stdout",
     "output_type": "stream",
     "text": [
      "CSV file saved!\n"
     ]
    }
   ],
   "source": [
    "felt.saveToCsv_2(UrlRejserAndCount,'ListOfUrlRejser','count',\"Luk_Virksomhed/Sunburst/Alle_Bruger/Unique_UrlRejser_&_Count.csv\")"
   ]
  },
  {
   "cell_type": "code",
   "execution_count": 12,
   "metadata": {},
   "outputs": [
    {
     "name": "stdout",
     "output_type": "stream",
     "text": [
      "CSV file saved!\n"
     ]
    }
   ],
   "source": [
    "felt.saveToCsv_2(listOfuniqUrl,'urlName','urlNumber',\"Luk_Virksomhed/UniqueList/UniqueUrl.csv\")"
   ]
  },
  {
   "cell_type": "code",
   "execution_count": 13,
   "metadata": {},
   "outputs": [
    {
     "name": "stdout",
     "output_type": "stream",
     "text": [
      "CSV file saved!\n"
     ]
    }
   ],
   "source": [
    "felt.saveToCsv_2(listUniqeClearfield,'FeildName','numberOfField',\"Luk_Virksomhed/UniqueList/UniqueFeildList.csv\")"
   ]
  },
  {
   "cell_type": "code",
   "execution_count": 17,
   "metadata": {},
   "outputs": [],
   "source": [
    "# rootconn = connection.dockerConnection()\n",
    "# Data= pd.DataFrame(connection.sqlQuery(\"SELECT * FROM Luk_Virksomhed\",rootconn))\n",
    "Data= pd.read_csv('EasyData/EasyData.csv',sep=';',dtype='str')\n",
    "Data=Data.rename(columns={0: 'id',1: 'forloebVarighed',2: 'virkStartForloebsId' ,3: 'cvr', 4:'cvrIndberet',5:'RID', 6:'PID',7:'serverTimeStamp',8:'formURL',9:'feltType',10:'feltId',11:'feltNavn',12:'handling'})"
   ]
  },
  {
   "cell_type": "code",
   "execution_count": 18,
   "metadata": {},
   "outputs": [],
   "source": [
    "#Data= pd.read_csv('Luk_rettet.csv',sep=';',dtype='str')#, nrows=1000)\n",
    "\n",
    "Data= felt.delete_Handlig_Bluer_And_Reset_Index(Data)\n",
    "Data, listOfuniqUrl ,HashlistOfUrl ,listUniqeClearfield, HashListfeild, ListOfUniqUserIds = time.make_ready_new_columns(Data)"
   ]
  },
  {
   "cell_type": "code",
   "execution_count": 19,
   "metadata": {},
   "outputs": [],
   "source": [
    "listOfUrlIdAndFeltRejse = felt.find_Felt_Under_Url_for_every_User(Data,listOfuniqUrl,HashlistOfUrl)"
   ]
  },
  {
   "cell_type": "code",
   "execution_count": 20,
   "metadata": {},
   "outputs": [],
   "source": [
    "listOfUrlIdAndFeltRejse = felt.enters_Numbers_Instead_Of_Felt_Name(listOfUrlIdAndFeltRejse,HashListfeild)"
   ]
  },
  {
   "cell_type": "code",
   "execution_count": 21,
   "metadata": {},
   "outputs": [
    {
     "name": "stdout",
     "output_type": "stream",
     "text": [
      "CSV file saved!\n"
     ]
    }
   ],
   "source": [
    "felt.make_Csv_For_FeldList_for_every_URL(listOfuniqUrl,listOfUrlIdAndFeltRejse,'Luk_Virksomhed/Sunburst/Alle_Bruger/Unique_Felt_Rejser_And_Count_Every_URL/')"
   ]
  },
  {
   "cell_type": "code",
   "execution_count": null,
   "metadata": {},
   "outputs": [],
   "source": []
  }
 ],
 "metadata": {
  "kernelspec": {
   "display_name": "Python 3",
   "language": "python",
   "name": "python3"
  },
  "language_info": {
   "codemirror_mode": {
    "name": "ipython",
    "version": 3
   },
   "file_extension": ".py",
   "mimetype": "text/x-python",
   "name": "python",
   "nbconvert_exporter": "python",
   "pygments_lexer": "ipython3",
   "version": "3.7.4"
  }
 },
 "nbformat": 4,
 "nbformat_minor": 2
}
